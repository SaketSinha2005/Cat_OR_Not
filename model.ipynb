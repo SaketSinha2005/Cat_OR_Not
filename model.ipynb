{
 "cells": [
  {
   "cell_type": "code",
   "execution_count": 1,
   "id": "be3707d7-3dee-4861-a26c-b904beb6338f",
   "metadata": {},
   "outputs": [
    {
     "name": "stderr",
     "output_type": "stream",
     "text": [
      "2025-09-16 14:11:05.515506: I tensorflow/core/util/port.cc:113] oneDNN custom operations are on. You may see slightly different numerical results due to floating-point round-off errors from different computation orders. To turn them off, set the environment variable `TF_ENABLE_ONEDNN_OPTS=0`.\n",
      "2025-09-16 14:11:05.766868: E external/local_xla/xla/stream_executor/cuda/cuda_dnn.cc:9261] Unable to register cuDNN factory: Attempting to register factory for plugin cuDNN when one has already been registered\n",
      "2025-09-16 14:11:05.767025: E external/local_xla/xla/stream_executor/cuda/cuda_fft.cc:607] Unable to register cuFFT factory: Attempting to register factory for plugin cuFFT when one has already been registered\n",
      "2025-09-16 14:11:05.798916: E external/local_xla/xla/stream_executor/cuda/cuda_blas.cc:1515] Unable to register cuBLAS factory: Attempting to register factory for plugin cuBLAS when one has already been registered\n",
      "2025-09-16 14:11:05.868955: I tensorflow/core/platform/cpu_feature_guard.cc:182] This TensorFlow binary is optimized to use available CPU instructions in performance-critical operations.\n",
      "To enable the following instructions: AVX2 AVX_VNNI FMA, in other operations, rebuild TensorFlow with the appropriate compiler flags.\n",
      "2025-09-16 14:11:07.391390: W tensorflow/compiler/tf2tensorrt/utils/py_utils.cc:38] TF-TRT Warning: Could not find TensorRT\n"
     ]
    }
   ],
   "source": [
    "import numpy as np\n",
    "import pandas as pd\n",
    "import os\n",
    "import tensorflow as tf\n",
    "from tensorflow.keras import layers, models"
   ]
  },
  {
   "cell_type": "code",
   "execution_count": 2,
   "id": "f2e2f137-80aa-49fa-aa15-737664a1c110",
   "metadata": {},
   "outputs": [],
   "source": [
    "pwd = os.getcwd()\n",
    "filepath1 = os.path.join(pwd, \"numpy_Datasets/X_train.npy\")\n",
    "filepath2 = os.path.join(pwd, \"numpy_Datasets/X_test.npy\")\n",
    "filepath3 = os.path.join(pwd, \"numpy_Datasets/X_val.npy\")\n",
    "filepath4 = os.path.join(pwd, \"numpy_Datasets/y_train.npy\")\n",
    "filepath5 = os.path.join(pwd, \"numpy_Datasets/y_test.npy\")\n",
    "filepath6 = os.path.join(pwd, \"numpy_Datasets/y_val.npy\")"
   ]
  },
  {
   "cell_type": "code",
   "execution_count": 3,
   "id": "2c6da5b8-a6f8-4068-8c4e-7a2151bae29b",
   "metadata": {},
   "outputs": [],
   "source": [
    "X_train = np.load(filepath1)\n",
    "X_test = np.load(filepath2)\n",
    "X_val = np.load(filepath3)\n",
    "y_train = np.load(filepath4)\n",
    "y_test = np.load(filepath5)\n",
    "y_val = np.load(filepath6)"
   ]
  },
  {
   "cell_type": "code",
   "execution_count": 4,
   "id": "be2a9577-31ba-4f8b-8e2e-0cf1c548b627",
   "metadata": {},
   "outputs": [
    {
     "data": {
      "text/plain": [
       "(9999, 128, 128, 3)"
      ]
     },
     "execution_count": 4,
     "metadata": {},
     "output_type": "execute_result"
    }
   ],
   "source": [
    "X_train.shape"
   ]
  },
  {
   "cell_type": "code",
   "execution_count": 5,
   "id": "320f8e27-9854-4a7e-b61f-36a871461790",
   "metadata": {},
   "outputs": [
    {
     "name": "stderr",
     "output_type": "stream",
     "text": [
      "2025-09-16 14:11:12.559376: I external/local_xla/xla/stream_executor/cuda/cuda_executor.cc:901] successful NUMA node read from SysFS had negative value (-1), but there must be at least one NUMA node, so returning NUMA node zero. See more at https://github.com/torvalds/linux/blob/v6.0/Documentation/ABI/testing/sysfs-bus-pci#L344-L355\n",
      "2025-09-16 14:11:12.662164: I external/local_xla/xla/stream_executor/cuda/cuda_executor.cc:901] successful NUMA node read from SysFS had negative value (-1), but there must be at least one NUMA node, so returning NUMA node zero. See more at https://github.com/torvalds/linux/blob/v6.0/Documentation/ABI/testing/sysfs-bus-pci#L344-L355\n",
      "2025-09-16 14:11:12.663813: I external/local_xla/xla/stream_executor/cuda/cuda_executor.cc:901] successful NUMA node read from SysFS had negative value (-1), but there must be at least one NUMA node, so returning NUMA node zero. See more at https://github.com/torvalds/linux/blob/v6.0/Documentation/ABI/testing/sysfs-bus-pci#L344-L355\n",
      "2025-09-16 14:11:12.668990: I external/local_xla/xla/stream_executor/cuda/cuda_executor.cc:901] successful NUMA node read from SysFS had negative value (-1), but there must be at least one NUMA node, so returning NUMA node zero. See more at https://github.com/torvalds/linux/blob/v6.0/Documentation/ABI/testing/sysfs-bus-pci#L344-L355\n",
      "2025-09-16 14:11:12.670670: I external/local_xla/xla/stream_executor/cuda/cuda_executor.cc:901] successful NUMA node read from SysFS had negative value (-1), but there must be at least one NUMA node, so returning NUMA node zero. See more at https://github.com/torvalds/linux/blob/v6.0/Documentation/ABI/testing/sysfs-bus-pci#L344-L355\n",
      "2025-09-16 14:11:12.672197: I external/local_xla/xla/stream_executor/cuda/cuda_executor.cc:901] successful NUMA node read from SysFS had negative value (-1), but there must be at least one NUMA node, so returning NUMA node zero. See more at https://github.com/torvalds/linux/blob/v6.0/Documentation/ABI/testing/sysfs-bus-pci#L344-L355\n",
      "2025-09-16 14:11:12.794957: I external/local_xla/xla/stream_executor/cuda/cuda_executor.cc:901] successful NUMA node read from SysFS had negative value (-1), but there must be at least one NUMA node, so returning NUMA node zero. See more at https://github.com/torvalds/linux/blob/v6.0/Documentation/ABI/testing/sysfs-bus-pci#L344-L355\n",
      "2025-09-16 14:11:12.796137: I external/local_xla/xla/stream_executor/cuda/cuda_executor.cc:901] successful NUMA node read from SysFS had negative value (-1), but there must be at least one NUMA node, so returning NUMA node zero. See more at https://github.com/torvalds/linux/blob/v6.0/Documentation/ABI/testing/sysfs-bus-pci#L344-L355\n",
      "2025-09-16 14:11:12.797138: I external/local_xla/xla/stream_executor/cuda/cuda_executor.cc:901] successful NUMA node read from SysFS had negative value (-1), but there must be at least one NUMA node, so returning NUMA node zero. See more at https://github.com/torvalds/linux/blob/v6.0/Documentation/ABI/testing/sysfs-bus-pci#L344-L355\n",
      "2025-09-16 14:11:12.798147: I tensorflow/core/common_runtime/gpu/gpu_device.cc:1929] Created device /job:localhost/replica:0/task:0/device:GPU:0 with 4166 MB memory:  -> device: 0, name: NVIDIA GeForce RTX 3050 6GB Laptop GPU, pci bus id: 0000:01:00.0, compute capability: 8.6\n"
     ]
    }
   ],
   "source": [
    "model = models.Sequential([\n",
    "    layers.Input(shape=(128, 128, 3)),  \n",
    "    layers.Conv2D(32, (3, 3), activation='relu'),\n",
    "    layers.MaxPooling2D((2, 2)),\n",
    "\n",
    "    layers.Conv2D(64, (3, 3), activation='relu'),\n",
    "    layers.MaxPooling2D((2, 2)),\n",
    "\n",
    "    layers.Conv2D(128, (3, 3), activation='relu'),\n",
    "    layers.MaxPooling2D((2, 2)),\n",
    "\n",
    "    layers.Flatten(),\n",
    "    layers.Dense(128, activation='relu'),\n",
    "    layers.Dense(1, activation='sigmoid')  \n",
    "])"
   ]
  },
  {
   "cell_type": "code",
   "execution_count": 6,
   "id": "f7f7c8a0-1eee-4850-9149-bc6db455789c",
   "metadata": {},
   "outputs": [],
   "source": [
    "model.compile(optimizer='adam',\n",
    "              loss='binary_crossentropy',\n",
    "              metrics=['accuracy']\n",
    ")"
   ]
  },
  {
   "cell_type": "code",
   "execution_count": 7,
   "id": "183bca08-e143-41b3-89a3-ed7610b11fec",
   "metadata": {},
   "outputs": [
    {
     "name": "stdout",
     "output_type": "stream",
     "text": [
      "Epoch 1/10\n"
     ]
    },
    {
     "name": "stderr",
     "output_type": "stream",
     "text": [
      "2025-09-16 14:11:17.608342: I external/local_xla/xla/stream_executor/cuda/cuda_dnn.cc:454] Loaded cuDNN version 8907\n",
      "2025-09-16 14:11:19.001364: I external/local_xla/xla/service/service.cc:168] XLA service 0x79a0b44a7220 initialized for platform CUDA (this does not guarantee that XLA will be used). Devices:\n",
      "2025-09-16 14:11:19.001425: I external/local_xla/xla/service/service.cc:176]   StreamExecutor device (0): NVIDIA GeForce RTX 3050 6GB Laptop GPU, Compute Capability 8.6\n",
      "2025-09-16 14:11:19.017377: I tensorflow/compiler/mlir/tensorflow/utils/dump_mlir_util.cc:269] disabling MLIR crash reproducer, set env var `MLIR_CRASH_REPRODUCER_DIRECTORY` to enable.\n",
      "WARNING: All log messages before absl::InitializeLog() is called are written to STDERR\n",
      "I0000 00:00:1758012079.205491   10382 device_compiler.h:186] Compiled cluster using XLA!  This line is logged at most once for the lifetime of the process.\n"
     ]
    },
    {
     "name": "stdout",
     "output_type": "stream",
     "text": [
      "5000/5000 [==============================] - 41s 7ms/step - loss: 0.6942 - accuracy: 0.5343 - val_loss: 0.6760 - val_accuracy: 0.5908\n",
      "Epoch 2/10\n",
      "5000/5000 [==============================] - 35s 7ms/step - loss: 0.6530 - accuracy: 0.6178 - val_loss: 0.6113 - val_accuracy: 0.6625\n",
      "Epoch 3/10\n",
      "5000/5000 [==============================] - 35s 7ms/step - loss: 0.5777 - accuracy: 0.7009 - val_loss: 0.5146 - val_accuracy: 0.7550\n",
      "Epoch 4/10\n",
      "5000/5000 [==============================] - 35s 7ms/step - loss: 0.5018 - accuracy: 0.7585 - val_loss: 0.4311 - val_accuracy: 0.7967\n",
      "Epoch 5/10\n",
      "5000/5000 [==============================] - 35s 7ms/step - loss: 0.4360 - accuracy: 0.8017 - val_loss: 0.3389 - val_accuracy: 0.8587\n",
      "Epoch 6/10\n",
      "5000/5000 [==============================] - 35s 7ms/step - loss: 0.3636 - accuracy: 0.8426 - val_loss: 0.2750 - val_accuracy: 0.8917\n",
      "Epoch 7/10\n",
      "5000/5000 [==============================] - 35s 7ms/step - loss: 0.2732 - accuracy: 0.8849 - val_loss: 0.2035 - val_accuracy: 0.9196\n",
      "Epoch 8/10\n",
      "5000/5000 [==============================] - 36s 7ms/step - loss: 0.1967 - accuracy: 0.9215 - val_loss: 0.1345 - val_accuracy: 0.9496\n",
      "Epoch 9/10\n",
      "5000/5000 [==============================] - 36s 7ms/step - loss: 0.1235 - accuracy: 0.9512 - val_loss: 0.1027 - val_accuracy: 0.9588\n",
      "Epoch 10/10\n",
      "5000/5000 [==============================] - 36s 7ms/step - loss: 0.1011 - accuracy: 0.9637 - val_loss: 0.0443 - val_accuracy: 0.9829\n"
     ]
    }
   ],
   "source": [
    "history = model.fit(\n",
    "    X_train, y_train,\n",
    "    validation_data=(X_val, y_val),\n",
    "    epochs=10,         \n",
    "    batch_size=2,\n",
    "    verbose=1\n",
    ")"
   ]
  },
  {
   "cell_type": "code",
   "execution_count": null,
   "id": "e6714690-f8b1-4f27-8514-04f0c04fdb72",
   "metadata": {},
   "outputs": [],
   "source": []
  }
 ],
 "metadata": {
  "kernelspec": {
   "display_name": "Python 3 (ipykernel)",
   "language": "python",
   "name": "python3"
  },
  "language_info": {
   "codemirror_mode": {
    "name": "ipython",
    "version": 3
   },
   "file_extension": ".py",
   "mimetype": "text/x-python",
   "name": "python",
   "nbconvert_exporter": "python",
   "pygments_lexer": "ipython3",
   "version": "3.10.18"
  }
 },
 "nbformat": 4,
 "nbformat_minor": 5
}
