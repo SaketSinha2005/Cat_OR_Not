{
 "cells": [
  {
   "cell_type": "code",
   "execution_count": 1,
   "id": "be3707d7-3dee-4861-a26c-b904beb6338f",
   "metadata": {},
   "outputs": [
    {
     "name": "stderr",
     "output_type": "stream",
     "text": [
      "2025-09-18 03:41:33.831475: I tensorflow/core/util/port.cc:113] oneDNN custom operations are on. You may see slightly different numerical results due to floating-point round-off errors from different computation orders. To turn them off, set the environment variable `TF_ENABLE_ONEDNN_OPTS=0`.\n",
      "2025-09-18 03:41:33.868751: E external/local_xla/xla/stream_executor/cuda/cuda_dnn.cc:9261] Unable to register cuDNN factory: Attempting to register factory for plugin cuDNN when one has already been registered\n",
      "2025-09-18 03:41:33.868778: E external/local_xla/xla/stream_executor/cuda/cuda_fft.cc:607] Unable to register cuFFT factory: Attempting to register factory for plugin cuFFT when one has already been registered\n",
      "2025-09-18 03:41:33.871402: E external/local_xla/xla/stream_executor/cuda/cuda_blas.cc:1515] Unable to register cuBLAS factory: Attempting to register factory for plugin cuBLAS when one has already been registered\n",
      "2025-09-18 03:41:33.881713: I tensorflow/core/platform/cpu_feature_guard.cc:182] This TensorFlow binary is optimized to use available CPU instructions in performance-critical operations.\n",
      "To enable the following instructions: AVX2 AVX_VNNI FMA, in other operations, rebuild TensorFlow with the appropriate compiler flags.\n",
      "2025-09-18 03:41:34.523286: W tensorflow/compiler/tf2tensorrt/utils/py_utils.cc:38] TF-TRT Warning: Could not find TensorRT\n"
     ]
    }
   ],
   "source": [
    "import numpy as np\n",
    "import pandas as pd\n",
    "import os\n",
    "import tensorflow as tf\n",
    "from tensorflow.keras import layers, models\n",
    "import mlflow\n",
    "import mlflow.keras"
   ]
  },
  {
   "cell_type": "code",
   "execution_count": 2,
   "id": "24d56d31-ab13-44a6-973e-9a708212f881",
   "metadata": {},
   "outputs": [
    {
     "name": "stderr",
     "output_type": "stream",
     "text": [
      "2025-09-18 03:41:35.494547: I external/local_xla/xla/stream_executor/cuda/cuda_executor.cc:901] successful NUMA node read from SysFS had negative value (-1), but there must be at least one NUMA node, so returning NUMA node zero. See more at https://github.com/torvalds/linux/blob/v6.0/Documentation/ABI/testing/sysfs-bus-pci#L344-L355\n",
      "2025-09-18 03:41:35.580305: I external/local_xla/xla/stream_executor/cuda/cuda_executor.cc:901] successful NUMA node read from SysFS had negative value (-1), but there must be at least one NUMA node, so returning NUMA node zero. See more at https://github.com/torvalds/linux/blob/v6.0/Documentation/ABI/testing/sysfs-bus-pci#L344-L355\n",
      "2025-09-18 03:41:35.582854: I external/local_xla/xla/stream_executor/cuda/cuda_executor.cc:901] successful NUMA node read from SysFS had negative value (-1), but there must be at least one NUMA node, so returning NUMA node zero. See more at https://github.com/torvalds/linux/blob/v6.0/Documentation/ABI/testing/sysfs-bus-pci#L344-L355\n"
     ]
    }
   ],
   "source": [
    "gpus = tf.config.list_physical_devices('GPU')\n",
    "for gpu in gpus:\n",
    "    tf.config.experimental.set_memory_growth(gpu, True)"
   ]
  },
  {
   "cell_type": "code",
   "execution_count": 3,
   "id": "f2e2f137-80aa-49fa-aa15-737664a1c110",
   "metadata": {},
   "outputs": [],
   "source": [
    "pwd = os.getcwd()\n",
    "filepath1 = os.path.join(pwd, \"numpy_Datasets/X_train.npy\")\n",
    "filepath2 = os.path.join(pwd, \"numpy_Datasets/X_test.npy\")\n",
    "filepath3 = os.path.join(pwd, \"numpy_Datasets/X_val.npy\")\n",
    "filepath4 = os.path.join(pwd, \"numpy_Datasets/y_train.npy\")\n",
    "filepath5 = os.path.join(pwd, \"numpy_Datasets/y_test.npy\")\n",
    "filepath6 = os.path.join(pwd, \"numpy_Datasets/y_val.npy\")"
   ]
  },
  {
   "cell_type": "code",
   "execution_count": 4,
   "id": "2c6da5b8-a6f8-4068-8c4e-7a2151bae29b",
   "metadata": {},
   "outputs": [],
   "source": [
    "X_train = np.load(filepath1)\n",
    "X_test = np.load(filepath2)\n",
    "X_val = np.load(filepath3)\n",
    "y_train = np.load(filepath4)\n",
    "y_test = np.load(filepath5)\n",
    "y_val = np.load(filepath6)"
   ]
  },
  {
   "cell_type": "code",
   "execution_count": 5,
   "id": "be2a9577-31ba-4f8b-8e2e-0cf1c548b627",
   "metadata": {},
   "outputs": [
    {
     "data": {
      "text/plain": [
       "(9000, 128, 128, 3)"
      ]
     },
     "execution_count": 5,
     "metadata": {},
     "output_type": "execute_result"
    }
   ],
   "source": [
    "X_train.shape"
   ]
  },
  {
   "cell_type": "code",
   "execution_count": 6,
   "id": "320f8e27-9854-4a7e-b61f-36a871461790",
   "metadata": {},
   "outputs": [
    {
     "name": "stderr",
     "output_type": "stream",
     "text": [
      "2025-09-18 03:41:37.363137: I external/local_xla/xla/stream_executor/cuda/cuda_executor.cc:901] successful NUMA node read from SysFS had negative value (-1), but there must be at least one NUMA node, so returning NUMA node zero. See more at https://github.com/torvalds/linux/blob/v6.0/Documentation/ABI/testing/sysfs-bus-pci#L344-L355\n",
      "2025-09-18 03:41:37.366720: I external/local_xla/xla/stream_executor/cuda/cuda_executor.cc:901] successful NUMA node read from SysFS had negative value (-1), but there must be at least one NUMA node, so returning NUMA node zero. See more at https://github.com/torvalds/linux/blob/v6.0/Documentation/ABI/testing/sysfs-bus-pci#L344-L355\n",
      "2025-09-18 03:41:37.369301: I external/local_xla/xla/stream_executor/cuda/cuda_executor.cc:901] successful NUMA node read from SysFS had negative value (-1), but there must be at least one NUMA node, so returning NUMA node zero. See more at https://github.com/torvalds/linux/blob/v6.0/Documentation/ABI/testing/sysfs-bus-pci#L344-L355\n",
      "2025-09-18 03:41:37.491814: I external/local_xla/xla/stream_executor/cuda/cuda_executor.cc:901] successful NUMA node read from SysFS had negative value (-1), but there must be at least one NUMA node, so returning NUMA node zero. See more at https://github.com/torvalds/linux/blob/v6.0/Documentation/ABI/testing/sysfs-bus-pci#L344-L355\n",
      "2025-09-18 03:41:37.492871: I external/local_xla/xla/stream_executor/cuda/cuda_executor.cc:901] successful NUMA node read from SysFS had negative value (-1), but there must be at least one NUMA node, so returning NUMA node zero. See more at https://github.com/torvalds/linux/blob/v6.0/Documentation/ABI/testing/sysfs-bus-pci#L344-L355\n",
      "2025-09-18 03:41:37.493772: I external/local_xla/xla/stream_executor/cuda/cuda_executor.cc:901] successful NUMA node read from SysFS had negative value (-1), but there must be at least one NUMA node, so returning NUMA node zero. See more at https://github.com/torvalds/linux/blob/v6.0/Documentation/ABI/testing/sysfs-bus-pci#L344-L355\n",
      "2025-09-18 03:41:37.494669: I tensorflow/core/common_runtime/gpu/gpu_device.cc:1929] Created device /job:localhost/replica:0/task:0/device:GPU:0 with 4164 MB memory:  -> device: 0, name: NVIDIA GeForce RTX 3050 6GB Laptop GPU, pci bus id: 0000:01:00.0, compute capability: 8.6\n"
     ]
    }
   ],
   "source": [
    "model = models.Sequential([\n",
    "    layers.Input(shape=(128, 128, 3)),  \n",
    "    layers.Conv2D(32, (3, 3), activation='relu'),\n",
    "    layers.MaxPooling2D((2, 2)),\n",
    "\n",
    "    layers.Conv2D(64, (3, 3), activation='relu'),\n",
    "    layers.MaxPooling2D((2, 2)),\n",
    "\n",
    "    layers.Conv2D(128, (3, 3), activation='relu'),\n",
    "    layers.MaxPooling2D((2, 2)),\n",
    "\n",
    "    layers.Flatten(),\n",
    "    layers.Dense(128, activation='relu'),\n",
    "    layers.Dense(1, activation='sigmoid')  \n",
    "])"
   ]
  },
  {
   "cell_type": "code",
   "execution_count": 7,
   "id": "f7f7c8a0-1eee-4850-9149-bc6db455789c",
   "metadata": {},
   "outputs": [],
   "source": [
    "model.compile(optimizer='adam',\n",
    "              loss='binary_crossentropy',\n",
    "              metrics=['accuracy']\n",
    ")"
   ]
  },
  {
   "cell_type": "code",
   "execution_count": 8,
   "id": "183bca08-e143-41b3-89a3-ed7610b11fec",
   "metadata": {},
   "outputs": [
    {
     "name": "stdout",
     "output_type": "stream",
     "text": [
      "Epoch 1/12\n"
     ]
    },
    {
     "name": "stderr",
     "output_type": "stream",
     "text": [
      "2025-09-18 03:41:41.348923: I external/local_xla/xla/stream_executor/cuda/cuda_dnn.cc:454] Loaded cuDNN version 8907\n",
      "2025-09-18 03:41:42.155103: I external/local_xla/xla/service/service.cc:168] XLA service 0x7245a5914a70 initialized for platform CUDA (this does not guarantee that XLA will be used). Devices:\n",
      "2025-09-18 03:41:42.155120: I external/local_xla/xla/service/service.cc:176]   StreamExecutor device (0): NVIDIA GeForce RTX 3050 6GB Laptop GPU, Compute Capability 8.6\n",
      "2025-09-18 03:41:42.161991: I tensorflow/compiler/mlir/tensorflow/utils/dump_mlir_util.cc:269] disabling MLIR crash reproducer, set env var `MLIR_CRASH_REPRODUCER_DIRECTORY` to enable.\n",
      "WARNING: All log messages before absl::InitializeLog() is called are written to STDERR\n",
      "I0000 00:00:1758147102.243752   15480 device_compiler.h:186] Compiled cluster using XLA!  This line is logged at most once for the lifetime of the process.\n"
     ]
    },
    {
     "name": "stdout",
     "output_type": "stream",
     "text": [
      "900/900 [==============================] - 13s 11ms/step - loss: 0.6661 - accuracy: 0.5922 - val_loss: 0.6574 - val_accuracy: 0.5988\n",
      "Epoch 2/12\n",
      "900/900 [==============================] - 9s 10ms/step - loss: 0.5927 - accuracy: 0.6919 - val_loss: 0.5190 - val_accuracy: 0.7425\n",
      "Epoch 3/12\n",
      "900/900 [==============================] - 9s 10ms/step - loss: 0.5348 - accuracy: 0.7330 - val_loss: 0.4582 - val_accuracy: 0.7827\n",
      "Epoch 4/12\n",
      "900/900 [==============================] - 9s 10ms/step - loss: 0.4633 - accuracy: 0.7777 - val_loss: 0.3907 - val_accuracy: 0.8229\n",
      "Epoch 5/12\n",
      "900/900 [==============================] - 9s 10ms/step - loss: 0.3932 - accuracy: 0.8194 - val_loss: 0.3444 - val_accuracy: 0.8431\n",
      "Epoch 6/12\n",
      "900/900 [==============================] - 9s 10ms/step - loss: 0.3030 - accuracy: 0.8683 - val_loss: 0.2024 - val_accuracy: 0.9206\n",
      "Epoch 7/12\n",
      "900/900 [==============================] - 9s 10ms/step - loss: 0.2031 - accuracy: 0.9171 - val_loss: 0.1120 - val_accuracy: 0.9646\n",
      "Epoch 8/12\n",
      "900/900 [==============================] - 9s 10ms/step - loss: 0.1221 - accuracy: 0.9531 - val_loss: 0.0704 - val_accuracy: 0.9834\n",
      "Epoch 9/12\n",
      "900/900 [==============================] - 9s 10ms/step - loss: 0.0942 - accuracy: 0.9649 - val_loss: 0.0687 - val_accuracy: 0.9818\n",
      "Epoch 10/12\n",
      "900/900 [==============================] - 9s 10ms/step - loss: 0.0588 - accuracy: 0.9782 - val_loss: 0.0309 - val_accuracy: 0.9918\n",
      "Epoch 11/12\n",
      "900/900 [==============================] - 9s 10ms/step - loss: 0.0470 - accuracy: 0.9833 - val_loss: 0.0401 - val_accuracy: 0.9882\n",
      "Epoch 12/12\n",
      "900/900 [==============================] - 9s 10ms/step - loss: 0.0396 - accuracy: 0.9862 - val_loss: 0.0508 - val_accuracy: 0.9808\n"
     ]
    }
   ],
   "source": [
    "history = model.fit(\n",
    "    X_train, y_train,\n",
    "    validation_data=(X_val, y_val),\n",
    "    epochs=12,         \n",
    "    batch_size=10,\n",
    "    verbose=1\n",
    ")"
   ]
  },
  {
   "cell_type": "code",
   "execution_count": 9,
   "id": "3dc7e56f-7ea5-410f-860a-06dbbe23c2eb",
   "metadata": {},
   "outputs": [
    {
     "name": "stdout",
     "output_type": "stream",
     "text": [
      "157/157 [==============================] - 2s 10ms/step - loss: 0.0548 - accuracy: 0.9814\n"
     ]
    },
    {
     "data": {
      "text/plain": [
       "[0.05477888882160187, 0.9813962578773499]"
      ]
     },
     "execution_count": 9,
     "metadata": {},
     "output_type": "execute_result"
    }
   ],
   "source": [
    "model.evaluate(X_test, y_test)"
   ]
  },
  {
   "cell_type": "code",
   "execution_count": 10,
   "id": "795e12f7-ad68-4155-91c1-d23f084cc53b",
   "metadata": {},
   "outputs": [
    {
     "name": "stderr",
     "output_type": "stream",
     "text": [
      "2025/09/18 03:43:45 WARNING mlflow.models.model: `artifact_path` is deprecated. Please use `name` instead.\n",
      "2025/09/18 03:43:45 WARNING mlflow.tensorflow: You are saving a TensorFlow Core model or Keras model without a signature. Inference with mlflow.pyfunc.spark_udf() will not work unless the model's pyfunc representation accepts pandas DataFrames as inference inputs.\n"
     ]
    },
    {
     "name": "stdout",
     "output_type": "stream",
     "text": [
      "INFO:tensorflow:Assets written to: /tmp/tmpcmhf4d30/model/data/model/assets\n"
     ]
    },
    {
     "name": "stderr",
     "output_type": "stream",
     "text": [
      "INFO:tensorflow:Assets written to: /tmp/tmpcmhf4d30/model/data/model/assets\n",
      "\u001b[31m2025/09/18 03:43:51 WARNING mlflow.models.model: Model logged without a signature and input example. Please set `input_example` parameter when logging the model to auto infer the model signature.\u001b[0m\n"
     ]
    },
    {
     "name": "stdout",
     "output_type": "stream",
     "text": [
      "🏃 View run victorious-rat-457 at: http://127.0.0.1:5000/#/experiments/676335462876494223/runs/f59347e2bf5b40d48fa31c528316d082\n",
      "🧪 View experiment at: http://127.0.0.1:5000/#/experiments/676335462876494223\n"
     ]
    }
   ],
   "source": [
    "mlflow.set_experiment(\"Cat OR Not\")\n",
    "mlflow.set_tracking_uri(\"http://127.0.0.1:5000/\")\n",
    "\n",
    "params = {\n",
    "    \"epochs\": 12,\n",
    "    \"batch_size\": 10,\n",
    "    \"optimizer\": \"adam\",\n",
    "    \"loss\": \"binary_crossentropy\"\n",
    "}\n",
    "\n",
    "with mlflow.start_run():\n",
    "    mlflow.log_params(params)\n",
    "    for epoch in range(params[\"epochs\"]):\n",
    "        mlflow.log_metric(\"train_loss\", history.history[\"loss\"][epoch], step=epoch)\n",
    "        mlflow.log_metric(\"train_accuracy\", history.history[\"accuracy\"][epoch], step=epoch)\n",
    "        mlflow.log_metric(\"val_loss\", history.history[\"val_loss\"][epoch], step=epoch)\n",
    "        mlflow.log_metric(\"val_accuracy\", history.history[\"val_accuracy\"][epoch], step=epoch)\n",
    "\n",
    "\n",
    "    mlflow.keras.log_model(model, \"Basic_cnn_4\")"
   ]
  },
  {
   "cell_type": "code",
   "execution_count": null,
   "id": "364843ca-e4f7-431b-917b-94e6f48e0f2d",
   "metadata": {},
   "outputs": [],
   "source": []
  }
 ],
 "metadata": {
  "kernelspec": {
   "display_name": "Python 3 (ipykernel)",
   "language": "python",
   "name": "python3"
  },
  "language_info": {
   "codemirror_mode": {
    "name": "ipython",
    "version": 3
   },
   "file_extension": ".py",
   "mimetype": "text/x-python",
   "name": "python",
   "nbconvert_exporter": "python",
   "pygments_lexer": "ipython3",
   "version": "3.10.18"
  }
 },
 "nbformat": 4,
 "nbformat_minor": 5
}
